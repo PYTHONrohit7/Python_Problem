{
 "cells": [
  {
   "cell_type": "markdown",
   "id": "86d79b27",
   "metadata": {},
   "source": [
    "## 1. Write a Python program to print the following string in a specific format (see the output).\n",
    "Twinkle, twinkle, little star,\n",
    "\n",
    "\tHow I wonder what you are!\n",
    "\t\tUp above the world so high,   \t\t\n",
    "\t\tLike a diamond in the sky. \n",
    "Twinkle, twinkle, little star, \n",
    "\tHow I wonder what you are"
   ]
  },
  {
   "cell_type": "code",
   "execution_count": 1,
   "id": "33648a13",
   "metadata": {},
   "outputs": [
    {
     "name": "stdout",
     "output_type": "stream",
     "text": [
      "Twinkle, twinkle, little star,\n",
      "\tHow I wonder what you are! \n",
      "\t\tUp above the world so high,   \t\t\n",
      "\t\tLike a diamond in the sky. \n",
      "Twinkle, twinkle, little star, \n",
      "\tHow I wonder what you are\n"
     ]
    }
   ],
   "source": [
    "print('''Twinkle, twinkle, little star,\n",
    "\tHow I wonder what you are! \n",
    "\t\tUp above the world so high,   \t\t\n",
    "\t\tLike a diamond in the sky. \n",
    "Twinkle, twinkle, little star, \n",
    "\tHow I wonder what you are''')"
   ]
  },
  {
   "cell_type": "markdown",
   "id": "6bd67638",
   "metadata": {},
   "source": [
    "## 2. Write a Python program to get the Python version you are using."
   ]
  },
  {
   "cell_type": "code",
   "execution_count": 13,
   "id": "13797cad",
   "metadata": {},
   "outputs": [
    {
     "name": "stdout",
     "output_type": "stream",
     "text": [
      "Python vesion 3.9.2 (tags/v3.9.2:1a79785, Feb 19 2021, 13:44:55) [MSC v.1928 64 bit (AMD64)]\n",
      "Python verion info sys.version_info(major=3, minor=9, micro=2, releaselevel='final', serial=0)\n"
     ]
    }
   ],
   "source": [
    "import sys\n",
    "print(\"Python vesion\",sys.version)\n",
    "print(\"Python verion info\",sys.version_info)\n"
   ]
  },
  {
   "cell_type": "markdown",
   "id": "6711cbc6",
   "metadata": {},
   "source": [
    "# #3. Write a Python program to display the current date and time.\n",
    "Sample Output :\n",
    "Current date and time :\n",
    "2014-07-05 14:34:14"
   ]
  },
  {
   "cell_type": "code",
   "execution_count": 18,
   "id": "fd101e5d",
   "metadata": {},
   "outputs": [
    {
     "name": "stdout",
     "output_type": "stream",
     "text": [
      "date =17-07-22 time=12:53:22\n"
     ]
    }
   ],
   "source": [
    "from datetime import datetime\n",
    "today=datetime.now()\n",
    "print(today.strftime(\"date=%d-%m-%y time=%H:%M:%S\"))"
   ]
  },
  {
   "cell_type": "markdown",
   "id": "f0ca5cc7",
   "metadata": {},
   "source": [
    "## 4. Write a Python program which accepts the radius of a circle from the user and compute the area. \n",
    "Sample Output :\n",
    "r = 1.1\n",
    "Area = 3.8013271108436504"
   ]
  },
  {
   "cell_type": "code",
   "execution_count": 21,
   "id": "c5b31935",
   "metadata": {},
   "outputs": [
    {
     "name": "stdout",
     "output_type": "stream",
     "text": [
      "Enter the radius of Circle1.1\n",
      "Area 3.8013271108436504\n"
     ]
    }
   ],
   "source": [
    "import math\n",
    "r=float(input(\"Enter the radius of Circle\"))\n",
    "print(\"Area\",math.pi*math.pow(r,2))"
   ]
  },
  {
   "cell_type": "markdown",
   "id": "5b57ac38",
   "metadata": {},
   "source": [
    " ## 5. Write a Python program which accepts the user's first and last name and print them in reverse order with a space between them."
   ]
  },
  {
   "cell_type": "code",
   "execution_count": 22,
   "id": "9277427f",
   "metadata": {},
   "outputs": [
    {
     "name": "stdout",
     "output_type": "stream",
     "text": [
      "Enter First NameRohit\n",
      "Enter last NamePaliwal\n",
      "Paliwal  Rohit\n"
     ]
    }
   ],
   "source": [
    "fname=input(\"Enter First Name \")\n",
    "lname=input(\"Enter last Name \")\n",
    "print(lname,\"\",fname)\n"
   ]
  },
  {
   "cell_type": "markdown",
   "id": "b1db6184",
   "metadata": {},
   "source": [
    "## 6. Write a Python program which accepts a sequence of comma-separated numbers from user and generate a list and a tuple with those numbers. Go to the editor\n",
    "Sample data : 3, 5, 7, 23"
   ]
  },
  {
   "cell_type": "code",
   "execution_count": 29,
   "id": "011685ab",
   "metadata": {},
   "outputs": [
    {
     "name": "stdout",
     "output_type": "stream",
     "text": [
      "Enter the Number of element you enter in list 4\n",
      "Enter the element in list3\n",
      "Enter the element in list5\n",
      "Enter the element in list7\n",
      "Enter the element in list23\n",
      "[3, 5, 7, 23]\n",
      "(3, 5, 7, 23)\n"
     ]
    }
   ],
   "source": [
    "list=[]\n",
    "n=int(input(\"Enter the Number of element you enter in list \"))\n",
    "for i in range(0,n):\n",
    "    ele=int(input(\"Enter the element in list\"))\n",
    "    list.append(ele)\n",
    "print(list)\n",
    "print(tuple(list))"
   ]
  },
  {
   "cell_type": "markdown",
   "id": "a60865d6",
   "metadata": {},
   "source": [
    "## 7. Write a Python program to accept a filename from the user and print the extension of that.\n",
    "Sample filename : abc.java\n",
    "Output : java"
   ]
  },
  {
   "cell_type": "code",
   "execution_count": 33,
   "id": "854b1474",
   "metadata": {},
   "outputs": [
    {
     "name": "stdout",
     "output_type": "stream",
     "text": [
      "Enter File Name abc.java\n",
      "Enter file is belong to'java'\n"
     ]
    }
   ],
   "source": [
    "file_name=input(\"Enter File Name \")\n",
    "file_cut=file_name.split(\".\")\n",
    "print(\"Enter file is belong to\"+repr(file_cut[-1]))"
   ]
  },
  {
   "cell_type": "markdown",
   "id": "e0189ab9",
   "metadata": {},
   "source": [
    "## 8. Write a Python program to display the first and last colors from the following list. \n",
    "color_list = [\"Red\",\"Green\",\"White\" ,\"Black\"]"
   ]
  },
  {
   "cell_type": "code",
   "execution_count": 52,
   "id": "5179a66d",
   "metadata": {},
   "outputs": [
    {
     "name": "stdout",
     "output_type": "stream",
     "text": [
      "Red\n",
      "Black\n"
     ]
    }
   ],
   "source": [
    "list=[\"Red\",\"Green\",\"White\",\"Black\"]\n",
    "print(list[0])\n",
    "print(list[-1])"
   ]
  },
  {
   "cell_type": "markdown",
   "id": "e3b3ffba",
   "metadata": {},
   "source": [
    "## 9. Write a Python program to display the examination schedule. (extract the date from exam_st_date).\n",
    "exam_st_date = (11, 12, 2014)\n",
    "Sample Output : The examination will start from : 11 / 12 / 2014"
   ]
  },
  {
   "cell_type": "code",
   "execution_count": 57,
   "id": "7687c2a0",
   "metadata": {},
   "outputs": [
    {
     "name": "stdout",
     "output_type": "stream",
     "text": [
      "11/12/2014\n"
     ]
    }
   ],
   "source": [
    "exam_st_date=(11,12,2014)\n",
    "print(\"%d/%d/%d\"% exam_st_date)"
   ]
  },
  {
   "cell_type": "markdown",
   "id": "06282cb9",
   "metadata": {},
   "source": [
    "## 10. Write a Python program that accepts an integer (n) and computes the value of n+nn+nnn. \n",
    "Sample value of n is 5\n",
    "Expected Result : 615"
   ]
  },
  {
   "cell_type": "code",
   "execution_count": 67,
   "id": "a38c2084",
   "metadata": {},
   "outputs": [
    {
     "name": "stdout",
     "output_type": "stream",
     "text": [
      "Sample value of n is 5\n",
      "Expected Result : 615\n"
     ]
    }
   ],
   "source": [
    "n=int(input(\"Sample value of n is \"))\n",
    "n1=int(\"%d\"% (n))\n",
    "n2=int(\"%d%d\"% (n,n))\n",
    "n3=int(\"%d%d%d\"% (n,n,n))\n",
    "print(\"Expected Result :\",n1+n2+n3)\n"
   ]
  },
  {
   "cell_type": "markdown",
   "id": "9a19624f",
   "metadata": {},
   "source": [
    "## 12. Write a Python program to print the calendar of a given month and year.\n",
    "Note : Use 'calendar' module."
   ]
  },
  {
   "cell_type": "code",
   "execution_count": 68,
   "id": "9fb95051",
   "metadata": {},
   "outputs": [
    {
     "name": "stdout",
     "output_type": "stream",
     "text": [
      "Enter year2022\n",
      "Enter  month5\n",
      "      May 2022\n",
      "Mo Tu We Th Fr Sa Su\n",
      "                   1\n",
      " 2  3  4  5  6  7  8\n",
      " 9 10 11 12 13 14 15\n",
      "16 17 18 19 20 21 22\n",
      "23 24 25 26 27 28 29\n",
      "30 31\n",
      "\n"
     ]
    }
   ],
   "source": [
    "import calendar\n",
    "y=int(input(\"Enter year :\"))\n",
    "m=int(input(\"Enter  month :\"))\n",
    "print(calendar.month(y,m))"
   ]
  },
  {
   "cell_type": "markdown",
   "id": "0f7f2ac4",
   "metadata": {},
   "source": [
    "## 13. Write a Python program to print the following 'here document'.\n",
    "Sample string :\n",
    "a string that you \"don't\" have to escape\n",
    "This\n",
    "is a ....... multi-line\n",
    "heredoc string --------> example"
   ]
  },
  {
   "cell_type": "code",
   "execution_count": 70,
   "id": "d4faedf8",
   "metadata": {},
   "outputs": [
    {
     "name": "stdout",
     "output_type": "stream",
     "text": [
      "a string that you \"don't\" have to escape \n",
      "This is a ....... multi-line \n",
      "heredoc string --------> example\n",
      "\n"
     ]
    }
   ],
   "source": [
    "print('''a string that you \"don't\" have to escape \n",
    "This is a ....... multi-line \n",
    "heredoc string --------> example\n",
    "''')"
   ]
  },
  {
   "cell_type": "markdown",
   "id": "c56cbb11",
   "metadata": {},
   "source": [
    "## 14. Write a Python program to calculate number of days between two dates.\n",
    "Sample dates : (2014, 7, 2), (2014, 7, 11)\n",
    "Expected output : 9 days"
   ]
  },
  {
   "cell_type": "code",
   "execution_count": 86,
   "id": "85ffffa5",
   "metadata": {},
   "outputs": [
    {
     "name": "stdout",
     "output_type": "stream",
     "text": [
      "7376\n"
     ]
    }
   ],
   "source": [
    "from datetime import date\n",
    "f_date = date(2002, 5, 7)\n",
    "l_date = date(2022, 7, 17)\n",
    "delta = l_date - f_date\n",
    "print(delta.days)"
   ]
  },
  {
   "cell_type": "markdown",
   "id": "650ed234",
   "metadata": {},
   "source": [
    "## 15. Write a Python program to get the volume of a sphere with radius 6."
   ]
  },
  {
   "cell_type": "code",
   "execution_count": 87,
   "id": "113e1642",
   "metadata": {},
   "outputs": [
    {
     "name": "stdout",
     "output_type": "stream",
     "text": [
      "Enter the radius6\n",
      "volume of Sphere  904.7786842338603\n"
     ]
    }
   ],
   "source": [
    "import math\n",
    "r=int(input(\"Enter the radius\"))\n",
    "print(\"volume of Sphere \",4/3*math.pi*math.pow(r,3))"
   ]
  },
  {
   "cell_type": "markdown",
   "id": "5b63030a",
   "metadata": {},
   "source": [
    "## 16. Write a Python program to get the difference between a given number and 17, if the number is greater than 17 return double the absolute difference."
   ]
  },
  {
   "cell_type": "code",
   "execution_count": 96,
   "id": "4d2c1ce9",
   "metadata": {},
   "outputs": [
    {
     "name": "stdout",
     "output_type": "stream",
     "text": [
      "Enter the Number:14\n",
      "3\n",
      "3\n"
     ]
    }
   ],
   "source": [
    "n=int(input(\"Enter the Number:\"))\n",
    "def difference():\n",
    "    if(n<=17):\n",
    "        return(17-n)\n",
    "    else:\n",
    "        return (n-17)*2\n",
    "print(difference())"
   ]
  },
  {
   "cell_type": "markdown",
   "id": "4415ed0a",
   "metadata": {},
   "source": [
    "## 17. Write a Python program to test whether a number is within 1000 or 2000."
   ]
  },
  {
   "cell_type": "code",
   "execution_count": null,
   "id": "47c285d8",
   "metadata": {},
   "outputs": [],
   "source": [
   ]
  }
 ],
 "metadata": {
  "kernelspec": {
   "display_name": "Python 3 (ipykernel)",
   "language": "python",
   "name": "python3"
  },
  "language_info": {
   "codemirror_mode": {
    "name": "ipython",
    "version": 3
   },
   "file_extension": ".py",
   "mimetype": "text/x-python",
   "name": "python",
   "nbconvert_exporter": "python",
   "pygments_lexer": "ipython3",
   "version": "3.9.2"
  }
 },
 "nbformat": 4,
 "nbformat_minor": 5
}
